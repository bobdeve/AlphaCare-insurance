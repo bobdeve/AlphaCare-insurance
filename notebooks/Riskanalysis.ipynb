{
 "cells": [
  {
   "cell_type": "code",
   "execution_count": 37,
   "id": "9893a62e",
   "metadata": {},
   "outputs": [],
   "source": [
    "# Import necessary libraries\n",
    "import pandas as pd\n",
    "import numpy as np\n",
    "from scipy import stats\n",
    "import seaborn as sns\n",
    "import matplotlib.pyplot as plt\n",
    "\n",
    "# Optional: Display float values with 3 decimals\n",
    "pd.set_option('display.float_format', lambda x: f'{x:.3f}')\n"
   ]
  },
  {
   "cell_type": "code",
   "execution_count": 3,
   "id": "a1a51f35",
   "metadata": {},
   "outputs": [
    {
     "data": {
      "text/html": [
       "<div>\n",
       "<style scoped>\n",
       "    .dataframe tbody tr th:only-of-type {\n",
       "        vertical-align: middle;\n",
       "    }\n",
       "\n",
       "    .dataframe tbody tr th {\n",
       "        vertical-align: top;\n",
       "    }\n",
       "\n",
       "    .dataframe thead th {\n",
       "        text-align: right;\n",
       "    }\n",
       "</style>\n",
       "<table border=\"1\" class=\"dataframe\">\n",
       "  <thead>\n",
       "    <tr style=\"text-align: right;\">\n",
       "      <th></th>\n",
       "      <th>UnderwrittenCoverID</th>\n",
       "      <th>PolicyID</th>\n",
       "      <th>TransactionMonth</th>\n",
       "      <th>IsVATRegistered</th>\n",
       "      <th>Citizenship</th>\n",
       "      <th>LegalType</th>\n",
       "      <th>Title</th>\n",
       "      <th>Language</th>\n",
       "      <th>Bank</th>\n",
       "      <th>AccountType</th>\n",
       "      <th>...</th>\n",
       "      <th>mmcode_was_missing</th>\n",
       "      <th>make_was_missing</th>\n",
       "      <th>Model_was_missing</th>\n",
       "      <th>bodytype_was_missing</th>\n",
       "      <th>NumberOfDoors_was_missing</th>\n",
       "      <th>VehicleIntroDate_was_missing</th>\n",
       "      <th>Cylinders_was_missing</th>\n",
       "      <th>cubiccapacity_was_missing</th>\n",
       "      <th>kilowatts_was_missing</th>\n",
       "      <th>LossRatio</th>\n",
       "    </tr>\n",
       "  </thead>\n",
       "  <tbody>\n",
       "    <tr>\n",
       "      <th>0</th>\n",
       "      <td>145249</td>\n",
       "      <td>12827</td>\n",
       "      <td>2015-03-01</td>\n",
       "      <td>True</td>\n",
       "      <td></td>\n",
       "      <td>Close Corporation</td>\n",
       "      <td>Mr</td>\n",
       "      <td>English</td>\n",
       "      <td>First National Bank</td>\n",
       "      <td>Current account</td>\n",
       "      <td>...</td>\n",
       "      <td>0</td>\n",
       "      <td>0</td>\n",
       "      <td>0</td>\n",
       "      <td>0</td>\n",
       "      <td>0</td>\n",
       "      <td>0</td>\n",
       "      <td>0</td>\n",
       "      <td>0</td>\n",
       "      <td>0</td>\n",
       "      <td>0.0</td>\n",
       "    </tr>\n",
       "    <tr>\n",
       "      <th>1</th>\n",
       "      <td>145249</td>\n",
       "      <td>12827</td>\n",
       "      <td>2015-05-01</td>\n",
       "      <td>True</td>\n",
       "      <td></td>\n",
       "      <td>Close Corporation</td>\n",
       "      <td>Mr</td>\n",
       "      <td>English</td>\n",
       "      <td>First National Bank</td>\n",
       "      <td>Current account</td>\n",
       "      <td>...</td>\n",
       "      <td>0</td>\n",
       "      <td>0</td>\n",
       "      <td>0</td>\n",
       "      <td>0</td>\n",
       "      <td>0</td>\n",
       "      <td>0</td>\n",
       "      <td>0</td>\n",
       "      <td>0</td>\n",
       "      <td>0</td>\n",
       "      <td>0.0</td>\n",
       "    </tr>\n",
       "    <tr>\n",
       "      <th>2</th>\n",
       "      <td>145255</td>\n",
       "      <td>12827</td>\n",
       "      <td>2015-05-01</td>\n",
       "      <td>True</td>\n",
       "      <td></td>\n",
       "      <td>Close Corporation</td>\n",
       "      <td>Mr</td>\n",
       "      <td>English</td>\n",
       "      <td>First National Bank</td>\n",
       "      <td>Current account</td>\n",
       "      <td>...</td>\n",
       "      <td>0</td>\n",
       "      <td>0</td>\n",
       "      <td>0</td>\n",
       "      <td>0</td>\n",
       "      <td>0</td>\n",
       "      <td>0</td>\n",
       "      <td>0</td>\n",
       "      <td>0</td>\n",
       "      <td>0</td>\n",
       "      <td>0.0</td>\n",
       "    </tr>\n",
       "    <tr>\n",
       "      <th>3</th>\n",
       "      <td>145247</td>\n",
       "      <td>12827</td>\n",
       "      <td>2015-01-01</td>\n",
       "      <td>True</td>\n",
       "      <td></td>\n",
       "      <td>Close Corporation</td>\n",
       "      <td>Mr</td>\n",
       "      <td>English</td>\n",
       "      <td>First National Bank</td>\n",
       "      <td>Current account</td>\n",
       "      <td>...</td>\n",
       "      <td>0</td>\n",
       "      <td>0</td>\n",
       "      <td>0</td>\n",
       "      <td>0</td>\n",
       "      <td>0</td>\n",
       "      <td>0</td>\n",
       "      <td>0</td>\n",
       "      <td>0</td>\n",
       "      <td>0</td>\n",
       "      <td>0.0</td>\n",
       "    </tr>\n",
       "    <tr>\n",
       "      <th>4</th>\n",
       "      <td>145247</td>\n",
       "      <td>12827</td>\n",
       "      <td>2015-04-01</td>\n",
       "      <td>True</td>\n",
       "      <td></td>\n",
       "      <td>Close Corporation</td>\n",
       "      <td>Mr</td>\n",
       "      <td>English</td>\n",
       "      <td>First National Bank</td>\n",
       "      <td>Current account</td>\n",
       "      <td>...</td>\n",
       "      <td>0</td>\n",
       "      <td>0</td>\n",
       "      <td>0</td>\n",
       "      <td>0</td>\n",
       "      <td>0</td>\n",
       "      <td>0</td>\n",
       "      <td>0</td>\n",
       "      <td>0</td>\n",
       "      <td>0</td>\n",
       "      <td>0.0</td>\n",
       "    </tr>\n",
       "  </tbody>\n",
       "</table>\n",
       "<p>5 rows × 63 columns</p>\n",
       "</div>"
      ],
      "text/plain": [
       "   UnderwrittenCoverID  PolicyID TransactionMonth  IsVATRegistered  \\\n",
       "0               145249     12827       2015-03-01             True   \n",
       "1               145249     12827       2015-05-01             True   \n",
       "2               145255     12827       2015-05-01             True   \n",
       "3               145247     12827       2015-01-01             True   \n",
       "4               145247     12827       2015-04-01             True   \n",
       "\n",
       "  Citizenship          LegalType Title Language                 Bank  \\\n",
       "0              Close Corporation    Mr  English  First National Bank   \n",
       "1              Close Corporation    Mr  English  First National Bank   \n",
       "2              Close Corporation    Mr  English  First National Bank   \n",
       "3              Close Corporation    Mr  English  First National Bank   \n",
       "4              Close Corporation    Mr  English  First National Bank   \n",
       "\n",
       "       AccountType  ... mmcode_was_missing make_was_missing Model_was_missing  \\\n",
       "0  Current account  ...                  0                0                 0   \n",
       "1  Current account  ...                  0                0                 0   \n",
       "2  Current account  ...                  0                0                 0   \n",
       "3  Current account  ...                  0                0                 0   \n",
       "4  Current account  ...                  0                0                 0   \n",
       "\n",
       "  bodytype_was_missing  NumberOfDoors_was_missing  \\\n",
       "0                    0                          0   \n",
       "1                    0                          0   \n",
       "2                    0                          0   \n",
       "3                    0                          0   \n",
       "4                    0                          0   \n",
       "\n",
       "  VehicleIntroDate_was_missing Cylinders_was_missing  \\\n",
       "0                            0                     0   \n",
       "1                            0                     0   \n",
       "2                            0                     0   \n",
       "3                            0                     0   \n",
       "4                            0                     0   \n",
       "\n",
       "  cubiccapacity_was_missing  kilowatts_was_missing LossRatio  \n",
       "0                         0                      0       0.0  \n",
       "1                         0                      0       0.0  \n",
       "2                         0                      0       0.0  \n",
       "3                         0                      0       0.0  \n",
       "4                         0                      0       0.0  \n",
       "\n",
       "[5 rows x 63 columns]"
      ]
     },
     "execution_count": 3,
     "metadata": {},
     "output_type": "execute_result"
    }
   ],
   "source": [
    "# Load the CSV dataset into a pandas DataFrame\n",
    "# Replace 'your_data.csv' with the correct path or filename\n",
    "df = pd.read_csv('../data/cleaned_insurance_data.csv')\n",
    "\n",
    "# Preview the first few rows of the dataset\n",
    "df.head()\n"
   ]
  },
  {
   "cell_type": "code",
   "execution_count": 39,
   "id": "40feaec9",
   "metadata": {},
   "outputs": [],
   "source": [
    "# Claim Frequency = Num policies with at least one claim / total policies\n",
    "# Claim Severity = Average claim amount for customers who had at least one claim\n",
    "# Margin = TotalPremium - TotalClaims\n",
    "\n",
    "# Ensure the columns exist: 'HasClaim', 'ClaimAmount', 'TotalPremium', 'TotalClaims', 'Gender', 'Province', 'ZipCode'\n",
    "\n",
    "# Add derived metrics\n",
    "df['Margin'] = df['TotalPremium'] - df['TotalClaims']\n",
    "df['HasClaim'] = df['TotalClaims'] > 0\n"
   ]
  },
  {
   "cell_type": "code",
   "execution_count": 14,
   "id": "836e8317",
   "metadata": {},
   "outputs": [],
   "source": [
    "# Recalculate LossRatio safely to avoid division by zero\n",
    "df['LossRatio'] = np.where(\n",
    "    df['TotalPremium'] != 0,\n",
    "    df['TotalClaims'] / df['TotalPremium'],\n",
    "    0\n",
    ")\n"
   ]
  },
  {
   "cell_type": "code",
   "execution_count": 23,
   "id": "04fa57f3",
   "metadata": {},
   "outputs": [
    {
     "data": {
      "text/plain": [
       "count    618176.000000\n",
       "mean        100.413265\n",
       "std        2989.980798\n",
       "min      -12002.412281\n",
       "25%           0.000000\n",
       "50%           0.000000\n",
       "75%           0.000000\n",
       "max      393092.105263\n",
       "Name: TotalClaims, dtype: float64"
      ]
     },
     "execution_count": 23,
     "metadata": {},
     "output_type": "execute_result"
    }
   ],
   "source": [
    "df['TotalClaims'].tolist()\n",
    "df['TotalClaims'].describe()\n",
    "\n"
   ]
  },
  {
   "cell_type": "code",
   "execution_count": 24,
   "id": "515e25be",
   "metadata": {},
   "outputs": [
    {
     "data": {
      "text/plain": [
       "TotalClaims\n",
       "0.000000        615533\n",
       "6140.350877        304\n",
       "750.649123          98\n",
       "1300.000000         58\n",
       "877.192982          45\n",
       "                 ...  \n",
       "42815.175439         1\n",
       "28628.947368         1\n",
       "8392.236842          1\n",
       "48369.385965         1\n",
       "14867.500000         1\n",
       "Name: count, Length: 1530, dtype: int64"
      ]
     },
     "execution_count": 24,
     "metadata": {},
     "output_type": "execute_result"
    }
   ],
   "source": [
    "df['TotalClaims'].value_counts()"
   ]
  },
  {
   "cell_type": "code",
   "execution_count": 28,
   "id": "ed51f4f1",
   "metadata": {},
   "outputs": [
    {
     "data": {
      "text/plain": [
       "count            613555\n",
       "unique                3\n",
       "top       Not specified\n",
       "freq             591068\n",
       "Name: Gender, dtype: object"
      ]
     },
     "execution_count": 28,
     "metadata": {},
     "output_type": "execute_result"
    }
   ],
   "source": [
    "df['Gender'].describe()"
   ]
  },
  {
   "cell_type": "code",
   "execution_count": 7,
   "id": "ea433e1c",
   "metadata": {},
   "outputs": [
    {
     "data": {
      "text/html": [
       "<div>\n",
       "<style scoped>\n",
       "    .dataframe tbody tr th:only-of-type {\n",
       "        vertical-align: middle;\n",
       "    }\n",
       "\n",
       "    .dataframe tbody tr th {\n",
       "        vertical-align: top;\n",
       "    }\n",
       "\n",
       "    .dataframe thead th {\n",
       "        text-align: right;\n",
       "    }\n",
       "</style>\n",
       "<table border=\"1\" class=\"dataframe\">\n",
       "  <thead>\n",
       "    <tr style=\"text-align: right;\">\n",
       "      <th></th>\n",
       "      <th>Province</th>\n",
       "      <th>TotalPremium</th>\n",
       "      <th>TotalClaims</th>\n",
       "      <th>LossRatio</th>\n",
       "      <th>Margin</th>\n",
       "    </tr>\n",
       "  </thead>\n",
       "  <tbody>\n",
       "    <tr>\n",
       "      <th>0</th>\n",
       "      <td>Gauteng</td>\n",
       "      <td>21.929825</td>\n",
       "      <td>0.0</td>\n",
       "      <td>0.0</td>\n",
       "      <td>21.929825</td>\n",
       "    </tr>\n",
       "    <tr>\n",
       "      <th>1</th>\n",
       "      <td>Gauteng</td>\n",
       "      <td>21.929825</td>\n",
       "      <td>0.0</td>\n",
       "      <td>0.0</td>\n",
       "      <td>21.929825</td>\n",
       "    </tr>\n",
       "    <tr>\n",
       "      <th>2</th>\n",
       "      <td>Gauteng</td>\n",
       "      <td>512.848070</td>\n",
       "      <td>0.0</td>\n",
       "      <td>0.0</td>\n",
       "      <td>512.848070</td>\n",
       "    </tr>\n",
       "    <tr>\n",
       "      <th>3</th>\n",
       "      <td>Gauteng</td>\n",
       "      <td>3.256435</td>\n",
       "      <td>0.0</td>\n",
       "      <td>0.0</td>\n",
       "      <td>3.256435</td>\n",
       "    </tr>\n",
       "    <tr>\n",
       "      <th>4</th>\n",
       "      <td>Gauteng</td>\n",
       "      <td>50.474737</td>\n",
       "      <td>0.0</td>\n",
       "      <td>0.0</td>\n",
       "      <td>50.474737</td>\n",
       "    </tr>\n",
       "    <tr>\n",
       "      <th>...</th>\n",
       "      <td>...</td>\n",
       "      <td>...</td>\n",
       "      <td>...</td>\n",
       "      <td>...</td>\n",
       "      <td>...</td>\n",
       "    </tr>\n",
       "    <tr>\n",
       "      <th>345</th>\n",
       "      <td>Gauteng</td>\n",
       "      <td>1.540883</td>\n",
       "      <td>0.0</td>\n",
       "      <td>0.0</td>\n",
       "      <td>1.540883</td>\n",
       "    </tr>\n",
       "    <tr>\n",
       "      <th>346</th>\n",
       "      <td>Gauteng</td>\n",
       "      <td>2.076842</td>\n",
       "      <td>0.0</td>\n",
       "      <td>0.0</td>\n",
       "      <td>2.076842</td>\n",
       "    </tr>\n",
       "    <tr>\n",
       "      <th>347</th>\n",
       "      <td>Gauteng</td>\n",
       "      <td>2.076842</td>\n",
       "      <td>0.0</td>\n",
       "      <td>0.0</td>\n",
       "      <td>2.076842</td>\n",
       "    </tr>\n",
       "    <tr>\n",
       "      <th>348</th>\n",
       "      <td>Gauteng</td>\n",
       "      <td>21.929825</td>\n",
       "      <td>0.0</td>\n",
       "      <td>0.0</td>\n",
       "      <td>21.929825</td>\n",
       "    </tr>\n",
       "    <tr>\n",
       "      <th>349</th>\n",
       "      <td>Gauteng</td>\n",
       "      <td>1.752281</td>\n",
       "      <td>0.0</td>\n",
       "      <td>0.0</td>\n",
       "      <td>1.752281</td>\n",
       "    </tr>\n",
       "  </tbody>\n",
       "</table>\n",
       "<p>350 rows × 5 columns</p>\n",
       "</div>"
      ],
      "text/plain": [
       "    Province  TotalPremium  TotalClaims  LossRatio      Margin\n",
       "0    Gauteng     21.929825          0.0        0.0   21.929825\n",
       "1    Gauteng     21.929825          0.0        0.0   21.929825\n",
       "2    Gauteng    512.848070          0.0        0.0  512.848070\n",
       "3    Gauteng      3.256435          0.0        0.0    3.256435\n",
       "4    Gauteng     50.474737          0.0        0.0   50.474737\n",
       "..       ...           ...          ...        ...         ...\n",
       "345  Gauteng      1.540883          0.0        0.0    1.540883\n",
       "346  Gauteng      2.076842          0.0        0.0    2.076842\n",
       "347  Gauteng      2.076842          0.0        0.0    2.076842\n",
       "348  Gauteng     21.929825          0.0        0.0   21.929825\n",
       "349  Gauteng      1.752281          0.0        0.0    1.752281\n",
       "\n",
       "[350 rows x 5 columns]"
      ]
     },
     "execution_count": 7,
     "metadata": {},
     "output_type": "execute_result"
    }
   ],
   "source": [
    "# Select relevant columns for the analysis\n",
    "# Drop any rows where essential data (Province, Premium, Claims, LossRatio) is missing\n",
    "df_clean = df[['Province', 'TotalPremium', 'TotalClaims', 'LossRatio']].dropna()\n",
    "\n",
    "# Remove rows with empty Province values\n",
    "df_clean = df_clean[df_clean['Province'] != '']\n",
    "\n",
    "# Create a new column to calculate profit margin: Premium - Claims\n",
    "df_clean['Margin'] = df_clean['TotalPremium'] - df_clean['TotalClaims']\n",
    "\n",
    "# Preview cleaned dataset\n",
    "df_clean.head(350)\n"
   ]
  },
  {
   "cell_type": "code",
   "execution_count": 8,
   "id": "32f9fc46",
   "metadata": {},
   "outputs": [
    {
     "data": {
      "text/plain": [
       "Province\n",
       "Gauteng          240782\n",
       "KwaZulu-Natal    111896\n",
       "Western Cape      96758\n",
       "North West        89799\n",
       "Mpumalanga        31663\n",
       "Eastern Cape      19694\n",
       "Limpopo           18009\n",
       "Free State         5932\n",
       "Northern Cape      3643\n",
       "Name: count, dtype: int64"
      ]
     },
     "execution_count": 8,
     "metadata": {},
     "output_type": "execute_result"
    }
   ],
   "source": [
    "# Count the number of records per province to select two with sufficient data\n",
    "df_clean['Province'].value_counts()\n"
   ]
  },
  {
   "cell_type": "code",
   "execution_count": 11,
   "id": "43c570e0",
   "metadata": {},
   "outputs": [],
   "source": [
    "# Filter the dataset for two specific provinces to compare\n",
    "group_a = df_clean[df_clean['Province'] == 'Gauteng']\n",
    "group_b = df_clean[df_clean['Province'] == 'KwaZulu-Natal']\n"
   ]
  },
  {
   "cell_type": "code",
   "execution_count": 13,
   "id": "5eebd5fc",
   "metadata": {},
   "outputs": [
    {
     "data": {
      "image/png": "[encoded data removed]",
      "text/plain": [
       "<Figure size 640x480 with 1 Axes>"
      ]
     },
     "metadata": {},
     "output_type": "display_data"
    }
   ],
   "source": [
    "# Plot the distribution of LossRatio for both provinces\n",
    "sns.histplot(group_a['LossRatio'], color='blue', label='Gauteng', kde=True)\n",
    "sns.histplot(group_b['LossRatio'], color='orange', label='KwaZulu-Natal', kde=True)\n",
    "plt.legend()\n",
    "plt.title('Loss Ratio Distribution by Province')\n",
    "plt.show()\n"
   ]
  },
  {
   "cell_type": "code",
   "execution_count": 29,
   "id": "bde4b4c2",
   "metadata": {},
   "outputs": [
    {
     "name": "stdout",
     "output_type": "stream",
     "text": [
      "T-statistic: 6.004, p-value: 0.00000\n"
     ]
    }
   ],
   "source": [
    "# Conduct an independent t-test to determine if LossRatio differs significantly\n",
    "t_stat, p_val = stats.ttest_ind(group_a['LossRatio'], group_b['LossRatio'], equal_var=False)\n",
    "\n",
    "# Display t-statistic and p-value\n",
    "print(f'T-statistic: {t_stat:.3f}, p-value: {p_val:.5f}')\n"
   ]
  },
  {
   "cell_type": "code",
   "execution_count": 35,
   "id": "53b24212",
   "metadata": {},
   "outputs": [
    {
     "name": "stderr",
     "output_type": "stream",
     "text": [
      "C:\\Users\\Bob\\AppData\\Local\\Temp\\ipykernel_11392\\3710556466.py:8: FutureWarning: \n",
      "\n",
      "Passing `palette` without assigning `hue` is deprecated and will be removed in v0.14.0. Assign the `x` variable to `hue` and set `legend=False` for the same effect.\n",
      "\n",
      "  sns.boxplot(data=df_plot, x='Group', y='LossRatio', palette='Set2')\n"
     ]
    },
    {
     "data": {
      "image/png": "[encoded data removed]",
      "text/plain": [
       "<Figure size 800x500 with 1 Axes>"
      ]
     },
     "metadata": {},
     "output_type": "display_data"
    }
   ],
   "source": [
    "import seaborn as sns\n",
    "import matplotlib.pyplot as plt\n",
    "\n",
    "# Combine the groups with labels for visualization\n",
    "df_plot = pd.concat([group_a.assign(Group='A'), group_b.assign(Group='B')])\n",
    "\n",
    "plt.figure(figsize=(8, 5))\n",
    "sns.boxplot(data=df_plot, x='Group', y='LossRatio', palette='Set2')\n",
    "plt.title('LossRatio Distribution by Group')\n",
    "plt.show()\n"
   ]
  },
  {
   "cell_type": "code",
   "execution_count": 30,
   "id": "e12c6dbc",
   "metadata": {},
   "outputs": [
    {
     "name": "stdout",
     "output_type": "stream",
     "text": [
      "Margin - T-statistic: -1.176, p-value: 0.23945\n"
     ]
    }
   ],
   "source": [
    "# Conduct an independent t-test to compare Margin (profitability) between provinces\n",
    "t_stat_m, p_val_m = stats.ttest_ind(group_a['Margin'], group_b['Margin'], equal_var=False)\n",
    "\n",
    "# Display t-statistic and p-value\n",
    "print(f'Margin - T-statistic: {t_stat_m:.3f}, p-value: {p_val_m:.5f}')\n"
   ]
  },
  {
   "cell_type": "code",
   "execution_count": 36,
   "id": "dcc173f1",
   "metadata": {},
   "outputs": [
    {
     "name": "stderr",
     "output_type": "stream",
     "text": [
      "C:\\Users\\Bob\\AppData\\Local\\Temp\\ipykernel_11392\\3411347115.py:7: FutureWarning: \n",
      "\n",
      "Passing `palette` without assigning `hue` is deprecated and will be removed in v0.14.0. Assign the `x` variable to `hue` and set `legend=False` for the same effect.\n",
      "\n",
      "  sns.boxplot(data=df_plot, x='Group', y='Margin', palette='coolwarm')\n"
     ]
    },
    {
     "data": {
      "image/png": "[encoded data removed]",
      "text/plain": [
       "<Figure size 800x500 with 1 Axes>"
      ]
     },
     "metadata": {},
     "output_type": "display_data"
    }
   ],
   "source": [
    "import seaborn as sns\n",
    "import matplotlib.pyplot as plt\n",
    "\n",
    "df_plot = pd.concat([group_a.assign(Group='A'), group_b.assign(Group='B')])\n",
    "\n",
    "plt.figure(figsize=(8, 5))\n",
    "sns.boxplot(data=df_plot, x='Group', y='Margin', palette='coolwarm')\n",
    "plt.title('Margin Distribution by Group')\n",
    "plt.show()\n"
   ]
  },
  {
   "cell_type": "code",
   "execution_count": 31,
   "id": "e64dcf28",
   "metadata": {},
   "outputs": [
    {
     "data": {
      "text/html": [
       "<div>\n",
       "<style scoped>\n",
       "    .dataframe tbody tr th:only-of-type {\n",
       "        vertical-align: middle;\n",
       "    }\n",
       "\n",
       "    .dataframe tbody tr th {\n",
       "        vertical-align: top;\n",
       "    }\n",
       "\n",
       "    .dataframe thead th {\n",
       "        text-align: right;\n",
       "    }\n",
       "</style>\n",
       "<table border=\"1\" class=\"dataframe\">\n",
       "  <thead>\n",
       "    <tr style=\"text-align: right;\">\n",
       "      <th></th>\n",
       "      <th>Province</th>\n",
       "      <th>Avg LossRatio</th>\n",
       "      <th>Avg Margin</th>\n",
       "      <th>Claim Frequency</th>\n",
       "    </tr>\n",
       "  </thead>\n",
       "  <tbody>\n",
       "    <tr>\n",
       "      <th>0</th>\n",
       "      <td>Gauteng</td>\n",
       "      <td>0.428927</td>\n",
       "      <td>-16.306879</td>\n",
       "      <td>0.005162</td>\n",
       "    </tr>\n",
       "    <tr>\n",
       "      <th>1</th>\n",
       "      <td>Western Cape</td>\n",
       "      <td>0.265328</td>\n",
       "      <td>-2.596777</td>\n",
       "      <td>0.004048</td>\n",
       "    </tr>\n",
       "  </tbody>\n",
       "</table>\n",
       "</div>"
      ],
      "text/plain": [
       "       Province  Avg LossRatio  Avg Margin  Claim Frequency\n",
       "0       Gauteng       0.428927  -16.306879         0.005162\n",
       "1  Western Cape       0.265328   -2.596777         0.004048"
      ]
     },
     "execution_count": 31,
     "metadata": {},
     "output_type": "execute_result"
    }
   ],
   "source": [
    "# Create a summary table comparing key metrics across the two provinces\n",
    "summary = pd.DataFrame({\n",
    "    'Province': ['Gauteng', 'Western Cape'],\n",
    "    'Avg LossRatio': [group_a['LossRatio'].mean(), group_b['LossRatio'].mean()],\n",
    "    'Avg Margin': [group_a['Margin'].mean(), group_b['Margin'].mean()],\n",
    "    'Claim Frequency': [\n",
    "        (group_a['TotalClaims'] > 0).mean(),  # % of policies that had claims\n",
    "        (group_b['TotalClaims'] > 0).mean()\n",
    "    ]\n",
    "})\n",
    "\n",
    "# Display the summary table\n",
    "summary\n"
   ]
  },
  {
   "cell_type": "code",
   "execution_count": 33,
   "id": "d79276d9",
   "metadata": {},
   "outputs": [],
   "source": [
    "# Create a new binary column: HasClaim = 1 if TotalClaims > 0, else 0\n",
    "df['HasClaim'] = df['TotalClaims'].apply(lambda x: 1 if x > 0 else 0)\n"
   ]
  },
  {
   "cell_type": "code",
   "execution_count": 34,
   "id": "9eeddeef",
   "metadata": {},
   "outputs": [
    {
     "name": "stderr",
     "output_type": "stream",
     "text": [
      "C:\\Users\\Bob\\AppData\\Local\\Temp\\ipykernel_11392\\720875026.py:19: FutureWarning: \n",
      "\n",
      "Passing `palette` without assigning `hue` is deprecated and will be removed in v0.14.0. Assign the `x` variable to `hue` and set `legend=False` for the same effect.\n",
      "\n",
      "  sns.boxplot(data=df, x='Gender', y='LossRatio', palette='Set2')\n",
      "C:\\Users\\Bob\\AppData\\Local\\Temp\\ipykernel_11392\\720875026.py:26: FutureWarning: \n",
      "\n",
      "Passing `palette` without assigning `hue` is deprecated and will be removed in v0.14.0. Assign the `x` variable to `hue` and set `legend=False` for the same effect.\n",
      "\n",
      "  sns.countplot(data=df, x='HasClaim', palette='pastel')\n"
     ]
    },
    {
     "data": {
      "image/png": "[encoded data removed]",
      "text/plain": [
       "<Figure size 1600x600 with 3 Axes>"
      ]
     },
     "metadata": {},
     "output_type": "display_data"
    }
   ],
   "source": [
    "import matplotlib.pyplot as plt\n",
    "import seaborn as sns\n",
    "\n",
    "# Set seaborn theme\n",
    "sns.set(style=\"whitegrid\")\n",
    "\n",
    "# Create a figure with multiple subplots\n",
    "plt.figure(figsize=(16, 6))\n",
    "\n",
    "# 1. Histogram of LossRatio\n",
    "plt.subplot(1, 3, 1)\n",
    "sns.histplot(df['LossRatio'], bins=50, kde=True, color='skyblue')\n",
    "plt.title('Distribution of LossRatio')\n",
    "plt.xlabel('LossRatio')\n",
    "plt.ylabel('Frequency')\n",
    "\n",
    "# 2. Boxplot of LossRatio by Gender\n",
    "plt.subplot(1, 3, 2)\n",
    "sns.boxplot(data=df, x='Gender', y='LossRatio', palette='Set2')\n",
    "plt.title('LossRatio by Gender')\n",
    "plt.xlabel('Gender')\n",
    "plt.ylabel('LossRatio')\n",
    "\n",
    "# 3. Countplot of HasClaim\n",
    "plt.subplot(1, 3, 3)\n",
    "sns.countplot(data=df, x='HasClaim', palette='pastel')\n",
    "plt.title('Number of Clients With/Without Claims')\n",
    "plt.xlabel('HasClaim')\n",
    "plt.ylabel('Count')\n",
    "plt.xticks([0, 1], ['No Claim', 'Claim'])\n",
    "\n",
    "plt.tight_layout()\n",
    "plt.show()\n"
   ]
  }
 ],
 "metadata": {
  "kernelspec": {
   "display_name": "alphacare",
   "language": "python",
   "name": "python3"
  },
  "language_info": {
   "codemirror_mode": {
    "name": "ipython",
    "version": 3
   },
   "file_extension": ".py",
   "mimetype": "text/x-python",
   "name": "python",
   "nbconvert_exporter": "python",
   "pygments_lexer": "ipython3",
   "version": "3.13.3"
  }
 },
 "nbformat": 4,
 "nbformat_minor": 5
}
