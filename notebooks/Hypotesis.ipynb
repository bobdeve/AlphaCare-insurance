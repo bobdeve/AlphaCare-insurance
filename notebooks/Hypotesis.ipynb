{
 "cells": [
  {
   "cell_type": "code",
   "execution_count": 39,
   "id": "87b5880b",
   "metadata": {},
   "outputs": [
    {
     "data": {
      "text/html": [
       "<div>\n",
       "<style scoped>\n",
       "    .dataframe tbody tr th:only-of-type {\n",
       "        vertical-align: middle;\n",
       "    }\n",
       "\n",
       "    .dataframe tbody tr th {\n",
       "        vertical-align: top;\n",
       "    }\n",
       "\n",
       "    .dataframe thead th {\n",
       "        text-align: right;\n",
       "    }\n",
       "</style>\n",
       "<table border=\"1\" class=\"dataframe\">\n",
       "  <thead>\n",
       "    <tr style=\"text-align: right;\">\n",
       "      <th></th>\n",
       "      <th>UnderwrittenCoverID</th>\n",
       "      <th>PolicyID</th>\n",
       "      <th>TransactionMonth</th>\n",
       "      <th>IsVATRegistered</th>\n",
       "      <th>Citizenship</th>\n",
       "      <th>LegalType</th>\n",
       "      <th>Title</th>\n",
       "      <th>Language</th>\n",
       "      <th>Bank</th>\n",
       "      <th>AccountType</th>\n",
       "      <th>...</th>\n",
       "      <th>mmcode_was_missing</th>\n",
       "      <th>make_was_missing</th>\n",
       "      <th>Model_was_missing</th>\n",
       "      <th>bodytype_was_missing</th>\n",
       "      <th>NumberOfDoors_was_missing</th>\n",
       "      <th>VehicleIntroDate_was_missing</th>\n",
       "      <th>Cylinders_was_missing</th>\n",
       "      <th>cubiccapacity_was_missing</th>\n",
       "      <th>kilowatts_was_missing</th>\n",
       "      <th>LossRatio</th>\n",
       "    </tr>\n",
       "  </thead>\n",
       "  <tbody>\n",
       "    <tr>\n",
       "      <th>0</th>\n",
       "      <td>145249</td>\n",
       "      <td>12827</td>\n",
       "      <td>2015-03-01</td>\n",
       "      <td>True</td>\n",
       "      <td></td>\n",
       "      <td>Close Corporation</td>\n",
       "      <td>Mr</td>\n",
       "      <td>English</td>\n",
       "      <td>First National Bank</td>\n",
       "      <td>Current account</td>\n",
       "      <td>...</td>\n",
       "      <td>0</td>\n",
       "      <td>0</td>\n",
       "      <td>0</td>\n",
       "      <td>0</td>\n",
       "      <td>0</td>\n",
       "      <td>0</td>\n",
       "      <td>0</td>\n",
       "      <td>0</td>\n",
       "      <td>0</td>\n",
       "      <td>0.000</td>\n",
       "    </tr>\n",
       "    <tr>\n",
       "      <th>1</th>\n",
       "      <td>145249</td>\n",
       "      <td>12827</td>\n",
       "      <td>2015-05-01</td>\n",
       "      <td>True</td>\n",
       "      <td></td>\n",
       "      <td>Close Corporation</td>\n",
       "      <td>Mr</td>\n",
       "      <td>English</td>\n",
       "      <td>First National Bank</td>\n",
       "      <td>Current account</td>\n",
       "      <td>...</td>\n",
       "      <td>0</td>\n",
       "      <td>0</td>\n",
       "      <td>0</td>\n",
       "      <td>0</td>\n",
       "      <td>0</td>\n",
       "      <td>0</td>\n",
       "      <td>0</td>\n",
       "      <td>0</td>\n",
       "      <td>0</td>\n",
       "      <td>0.000</td>\n",
       "    </tr>\n",
       "    <tr>\n",
       "      <th>2</th>\n",
       "      <td>145255</td>\n",
       "      <td>12827</td>\n",
       "      <td>2015-05-01</td>\n",
       "      <td>True</td>\n",
       "      <td></td>\n",
       "      <td>Close Corporation</td>\n",
       "      <td>Mr</td>\n",
       "      <td>English</td>\n",
       "      <td>First National Bank</td>\n",
       "      <td>Current account</td>\n",
       "      <td>...</td>\n",
       "      <td>0</td>\n",
       "      <td>0</td>\n",
       "      <td>0</td>\n",
       "      <td>0</td>\n",
       "      <td>0</td>\n",
       "      <td>0</td>\n",
       "      <td>0</td>\n",
       "      <td>0</td>\n",
       "      <td>0</td>\n",
       "      <td>0.000</td>\n",
       "    </tr>\n",
       "    <tr>\n",
       "      <th>3</th>\n",
       "      <td>145247</td>\n",
       "      <td>12827</td>\n",
       "      <td>2015-01-01</td>\n",
       "      <td>True</td>\n",
       "      <td></td>\n",
       "      <td>Close Corporation</td>\n",
       "      <td>Mr</td>\n",
       "      <td>English</td>\n",
       "      <td>First National Bank</td>\n",
       "      <td>Current account</td>\n",
       "      <td>...</td>\n",
       "      <td>0</td>\n",
       "      <td>0</td>\n",
       "      <td>0</td>\n",
       "      <td>0</td>\n",
       "      <td>0</td>\n",
       "      <td>0</td>\n",
       "      <td>0</td>\n",
       "      <td>0</td>\n",
       "      <td>0</td>\n",
       "      <td>0.000</td>\n",
       "    </tr>\n",
       "    <tr>\n",
       "      <th>4</th>\n",
       "      <td>145247</td>\n",
       "      <td>12827</td>\n",
       "      <td>2015-04-01</td>\n",
       "      <td>True</td>\n",
       "      <td></td>\n",
       "      <td>Close Corporation</td>\n",
       "      <td>Mr</td>\n",
       "      <td>English</td>\n",
       "      <td>First National Bank</td>\n",
       "      <td>Current account</td>\n",
       "      <td>...</td>\n",
       "      <td>0</td>\n",
       "      <td>0</td>\n",
       "      <td>0</td>\n",
       "      <td>0</td>\n",
       "      <td>0</td>\n",
       "      <td>0</td>\n",
       "      <td>0</td>\n",
       "      <td>0</td>\n",
       "      <td>0</td>\n",
       "      <td>0.000</td>\n",
       "    </tr>\n",
       "  </tbody>\n",
       "</table>\n",
       "<p>5 rows × 63 columns</p>\n",
       "</div>"
      ],
      "text/plain": [
       "   UnderwrittenCoverID  PolicyID TransactionMonth  IsVATRegistered  \\\n",
       "0               145249     12827       2015-03-01             True   \n",
       "1               145249     12827       2015-05-01             True   \n",
       "2               145255     12827       2015-05-01             True   \n",
       "3               145247     12827       2015-01-01             True   \n",
       "4               145247     12827       2015-04-01             True   \n",
       "\n",
       "  Citizenship          LegalType Title Language                 Bank  \\\n",
       "0              Close Corporation    Mr  English  First National Bank   \n",
       "1              Close Corporation    Mr  English  First National Bank   \n",
       "2              Close Corporation    Mr  English  First National Bank   \n",
       "3              Close Corporation    Mr  English  First National Bank   \n",
       "4              Close Corporation    Mr  English  First National Bank   \n",
       "\n",
       "       AccountType  ... mmcode_was_missing make_was_missing Model_was_missing  \\\n",
       "0  Current account  ...                  0                0                 0   \n",
       "1  Current account  ...                  0                0                 0   \n",
       "2  Current account  ...                  0                0                 0   \n",
       "3  Current account  ...                  0                0                 0   \n",
       "4  Current account  ...                  0                0                 0   \n",
       "\n",
       "  bodytype_was_missing  NumberOfDoors_was_missing  \\\n",
       "0                    0                          0   \n",
       "1                    0                          0   \n",
       "2                    0                          0   \n",
       "3                    0                          0   \n",
       "4                    0                          0   \n",
       "\n",
       "  VehicleIntroDate_was_missing Cylinders_was_missing  \\\n",
       "0                            0                     0   \n",
       "1                            0                     0   \n",
       "2                            0                     0   \n",
       "3                            0                     0   \n",
       "4                            0                     0   \n",
       "\n",
       "  cubiccapacity_was_missing  kilowatts_was_missing LossRatio  \n",
       "0                         0                      0     0.000  \n",
       "1                         0                      0     0.000  \n",
       "2                         0                      0     0.000  \n",
       "3                         0                      0     0.000  \n",
       "4                         0                      0     0.000  \n",
       "\n",
       "[5 rows x 63 columns]"
      ]
     },
     "execution_count": 39,
     "metadata": {},
     "output_type": "execute_result"
    }
   ],
   "source": [
    "# Import necessary libraries\n",
    "import pandas as pd\n",
    "import numpy as np\n",
    "from scipy import stats\n",
    "import seaborn as sns\n",
    "import matplotlib.pyplot as plt\n",
    "\n",
    "# Optional: Display float values with 3 decimals\n",
    "pd.set_option('display.float_format', lambda x: f'{x:.3f}')\n",
    "# Load the CSV dataset into a pandas DataFrame\n",
    "# Replace 'your_data.csv' with the correct path or filename\n",
    "df = pd.read_csv('../data/cleaned_insurance_data.csv')\n",
    "\n",
    "# Preview the first few rows of the dataset\n",
    "df.head()\n"
   ]
  },
  {
   "cell_type": "code",
   "execution_count": 40,
   "id": "f9800007",
   "metadata": {},
   "outputs": [],
   "source": [
    "# Claim Frequency = Num policies with at least one claim / total policies\n",
    "# Claim Severity = Average claim amount for customers who had at least one claim\n",
    "# Margin = TotalPremium - TotalClaims\n",
    "\n",
    "# Ensure the columns exist: 'HasClaim', 'ClaimAmount', 'TotalPremium', 'TotalClaims', 'Gender', 'Province', 'ZipCode'\n",
    "\n",
    "# Add derived metrics\n",
    "df['Margin'] = df['TotalPremium'] - df['TotalClaims']\n",
    "df['HasClaim'] = df['TotalClaims'] > 0\n"
   ]
  },
  {
   "cell_type": "code",
   "execution_count": 41,
   "id": "59a0a501",
   "metadata": {},
   "outputs": [
    {
     "name": "stdout",
     "output_type": "stream",
     "text": [
      "        Province  HasClaim\n",
      "0   Eastern Cape     0.002\n",
      "1     Free State     0.002\n",
      "2        Gauteng     0.005\n",
      "3  KwaZulu-Natal     0.004\n",
      "4        Limpopo     0.004\n",
      "5     Mpumalanga     0.004\n",
      "6     North West     0.004\n",
      "7  Northern Cape     0.002\n",
      "8   Western Cape     0.004\n"
     ]
    }
   ],
   "source": [
    "# Group by Province to calculate claim frequency\n",
    "province_freq = df.groupby('Province')['HasClaim'].mean().reset_index()\n",
    "print(province_freq)\n"
   ]
  },
  {
   "cell_type": "code",
   "execution_count": 42,
   "id": "89ad8712",
   "metadata": {},
   "outputs": [
    {
     "name": "stdout",
     "output_type": "stream",
     "text": [
      "Chi-square Statistic: 93.695, p-value: 0.00000\n"
     ]
    }
   ],
   "source": [
    "# Create a contingency table of Province vs HasClaim\n",
    "province_contingency = pd.crosstab(df['Province'], df['HasClaim'])\n",
    "\n",
    "# Perform Chi-square test\n",
    "province_chi2, province_chi_p, province_dof, province_expected = stats.chi2_contingency(province_contingency)\n",
    "\n",
    "# Print the result\n",
    "print(f'Chi-square Statistic: {province_chi2:.3f}, p-value: {province_chi_p:.5f}')\n"
   ]
  },
  {
   "cell_type": "code",
   "execution_count": 43,
   "id": "d0425490",
   "metadata": {},
   "outputs": [
    {
     "name": "stdout",
     "output_type": "stream",
     "text": [
      "        Province  TotalClaims\n",
      "0   Eastern Cape    28644.846\n",
      "1     Free State    29552.767\n",
      "2        Gauteng    22520.738\n",
      "3  KwaZulu-Natal    29859.496\n",
      "4        Limpopo    15028.681\n",
      "5     Mpumalanga    16286.340\n",
      "6     North West    16747.673\n",
      "7  Northern Cape    11186.314\n",
      "8   Western Cape    28786.386\n"
     ]
    }
   ],
   "source": [
    "severity_data = df[df['HasClaim'] == True]\n",
    "province_severity = severity_data.groupby('Province')['TotalClaims'].mean().reset_index()\n",
    "print(province_severity)\n"
   ]
  },
  {
   "cell_type": "code",
   "execution_count": 44,
   "id": "9f99e366",
   "metadata": {},
   "outputs": [
    {
     "name": "stdout",
     "output_type": "stream",
     "text": [
      "F-statistic: 4.813, p-value: 0.00001\n"
     ]
    }
   ],
   "source": [
    "# Filter data to include only rows with actual claims (severity)\n",
    "severity_data = df[df['TotalClaims'] > 0]\n",
    "\n",
    "# ANOVA to test differences in claim severity between provinces\n",
    "anova_result = stats.f_oneway(*[group['TotalClaims'].values for name, group in severity_data.groupby('Province')])\n",
    "\n",
    "# Assign p-value to variable for summary table use\n",
    "province_anova_p = anova_result.pvalue\n",
    "\n",
    "print(f'F-statistic: {anova_result.statistic:.3f}, p-value: {province_anova_p:.5f}')\n"
   ]
  },
  {
   "cell_type": "code",
   "execution_count": 45,
   "id": "39d50e87",
   "metadata": {},
   "outputs": [],
   "source": [
    "# Filter most common zip codes (optional)\n",
    "top_zipcodes = df['PostalCode'].value_counts().head(5).index\n",
    "df_zip = df[df['PostalCode'].isin(top_zipcodes)]\n"
   ]
  },
  {
   "cell_type": "code",
   "execution_count": 46,
   "id": "726798a9",
   "metadata": {},
   "outputs": [
    {
     "name": "stdout",
     "output_type": "stream",
     "text": [
      "ZipCode - Chi-square Statistic: 42.205, p-value: 0.00000\n"
     ]
    }
   ],
   "source": [
    "# Chi-square test for claim frequency by ZipCode\n",
    "zip_contingency = pd.crosstab(df_zip['PostalCode'], df_zip['HasClaim'])\n",
    "chi2, zip_chi_p, dof, expected = stats.chi2_contingency(zip_contingency)\n",
    "\n",
    "print(f'ZipCode - Chi-square Statistic: {chi2:.3f}, p-value: {zip_chi_p:.5f}')\n"
   ]
  },
  {
   "cell_type": "code",
   "execution_count": 47,
   "id": "3ba4f829",
   "metadata": {},
   "outputs": [
    {
     "name": "stdout",
     "output_type": "stream",
     "text": [
      "ZipCode Severity - F-statistic: 4.468, p-value: 0.00142\n"
     ]
    }
   ],
   "source": [
    "# ANOVA for severity between zip codes\n",
    "severity_zip_data = df_zip[df_zip['HasClaim'] == True]\n",
    "anova_zip = stats.f_oneway(*[group['TotalClaims'].values for name, group in severity_zip_data.groupby('PostalCode')])\n",
    "\n",
    "print(f'ZipCode Severity - F-statistic: {anova_zip.statistic:.3f}, p-value: {anova_zip.pvalue:.5f}')\n",
    "\n",
    "# Save p-value for summary\n",
    "zip_anova_p = anova_zip.pvalue\n"
   ]
  },
  {
   "cell_type": "code",
   "execution_count": 48,
   "id": "a5f9a260",
   "metadata": {},
   "outputs": [
    {
     "name": "stdout",
     "output_type": "stream",
     "text": [
      "Margin by ZipCode - F-statistic: 1.972, p-value: 0.09578\n"
     ]
    }
   ],
   "source": [
    "# ANOVA on Margin by ZipCode\n",
    "anova_margin = stats.f_oneway(*[group['Margin'].values for name, group in df_zip.groupby('PostalCode')])\n",
    "print(f'Margin by ZipCode - F-statistic: {anova_margin.statistic:.3f}, p-value: {anova_margin.pvalue:.5f}')\n"
   ]
  },
  {
   "cell_type": "code",
   "execution_count": 49,
   "id": "62040f26",
   "metadata": {},
   "outputs": [],
   "source": [
    "zip_margin_p = anova_margin.pvalue\n"
   ]
  },
  {
   "cell_type": "code",
   "execution_count": 50,
   "id": "c3a7553f",
   "metadata": {},
   "outputs": [
    {
     "name": "stdout",
     "output_type": "stream",
     "text": [
      "Claim Frequency by Gender:\n",
      "Gender\n",
      "Female          0.004\n",
      "Male            0.004\n",
      "Not specified   0.004\n",
      "Name: HasClaim, dtype: float64\n",
      "Gender Risk - Chi-square Statistic: 0.305, p-value: 0.85839\n"
     ]
    }
   ],
   "source": [
    "# Calculate claim frequency by Gender\n",
    "gender_freq = df.groupby('Gender')['HasClaim'].mean()\n",
    "print(\"Claim Frequency by Gender:\")\n",
    "print(gender_freq)\n",
    "\n",
    "# Create contingency table for Gender vs HasClaim\n",
    "gender_contingency = pd.crosstab(df['Gender'], df['HasClaim'])\n",
    "\n",
    "# Perform Chi-square test\n",
    "chi2, gender_chi_p, dof, expected = stats.chi2_contingency(gender_contingency)\n",
    "print(f'Gender Risk - Chi-square Statistic: {chi2:.3f}, p-value: {gender_chi_p:.5f}')\n"
   ]
  },
  {
   "cell_type": "code",
   "execution_count": 51,
   "id": "27bc350b",
   "metadata": {},
   "outputs": [
    {
     "data": {
      "text/html": [
       "<div>\n",
       "<style scoped>\n",
       "    .dataframe tbody tr th:only-of-type {\n",
       "        vertical-align: middle;\n",
       "    }\n",
       "\n",
       "    .dataframe tbody tr th {\n",
       "        vertical-align: top;\n",
       "    }\n",
       "\n",
       "    .dataframe thead th {\n",
       "        text-align: right;\n",
       "    }\n",
       "</style>\n",
       "<table border=\"1\" class=\"dataframe\">\n",
       "  <thead>\n",
       "    <tr style=\"text-align: right;\">\n",
       "      <th></th>\n",
       "      <th>Hypothesis</th>\n",
       "      <th>p-value</th>\n",
       "      <th>Result</th>\n",
       "    </tr>\n",
       "  </thead>\n",
       "  <tbody>\n",
       "    <tr>\n",
       "      <th>0</th>\n",
       "      <td>Risk differs by Province (Frequency)</td>\n",
       "      <td>0.000</td>\n",
       "      <td>Reject H₀</td>\n",
       "    </tr>\n",
       "    <tr>\n",
       "      <th>1</th>\n",
       "      <td>Risk differs by Province (Severity)</td>\n",
       "      <td>0.000</td>\n",
       "      <td>Reject H₀</td>\n",
       "    </tr>\n",
       "    <tr>\n",
       "      <th>2</th>\n",
       "      <td>Risk differs by ZipCode (Frequency)</td>\n",
       "      <td>0.000</td>\n",
       "      <td>Reject H₀</td>\n",
       "    </tr>\n",
       "    <tr>\n",
       "      <th>3</th>\n",
       "      <td>Risk differs by ZipCode (Severity)</td>\n",
       "      <td>0.001</td>\n",
       "      <td>Reject H₀</td>\n",
       "    </tr>\n",
       "    <tr>\n",
       "      <th>4</th>\n",
       "      <td>Margin differs by ZipCode</td>\n",
       "      <td>0.096</td>\n",
       "      <td>Fail to Reject H₀</td>\n",
       "    </tr>\n",
       "    <tr>\n",
       "      <th>5</th>\n",
       "      <td>Risk differs by Gender</td>\n",
       "      <td>0.858</td>\n",
       "      <td>Fail to Reject H₀</td>\n",
       "    </tr>\n",
       "  </tbody>\n",
       "</table>\n",
       "</div>"
      ],
      "text/plain": [
       "                             Hypothesis  p-value             Result\n",
       "0  Risk differs by Province (Frequency)    0.000          Reject H₀\n",
       "1   Risk differs by Province (Severity)    0.000          Reject H₀\n",
       "2   Risk differs by ZipCode (Frequency)    0.000          Reject H₀\n",
       "3    Risk differs by ZipCode (Severity)    0.001          Reject H₀\n",
       "4             Margin differs by ZipCode    0.096  Fail to Reject H₀\n",
       "5                Risk differs by Gender    0.858  Fail to Reject H₀"
      ]
     },
     "execution_count": 51,
     "metadata": {},
     "output_type": "execute_result"
    }
   ],
   "source": [
    "summary_results = pd.DataFrame({\n",
    "    'Hypothesis': [\n",
    "        'Risk differs by Province (Frequency)',\n",
    "        'Risk differs by Province (Severity)',\n",
    "        'Risk differs by ZipCode (Frequency)',\n",
    "        'Risk differs by ZipCode (Severity)',\n",
    "        'Margin differs by ZipCode',\n",
    "        'Risk differs by Gender'\n",
    "    ],\n",
    "    'p-value': [\n",
    "        province_chi_p,\n",
    "        province_anova_p,\n",
    "        zip_chi_p,\n",
    "        zip_anova_p,\n",
    "        zip_margin_p,\n",
    "        gender_chi_p\n",
    "    ]\n",
    "})  \n",
    "\n",
    "summary_results['Result'] = summary_results['p-value'].apply(lambda p: 'Reject H₀' if p < 0.05 else 'Fail to Reject H₀')\n",
    "summary_results\n"
   ]
  }
 ],
 "metadata": {
  "kernelspec": {
   "display_name": "alphacare",
   "language": "python",
   "name": "python3"
  },
  "language_info": {
   "codemirror_mode": {
    "name": "ipython",
    "version": 3
   },
   "file_extension": ".py",
   "mimetype": "text/x-python",
   "name": "python",
   "nbconvert_exporter": "python",
   "pygments_lexer": "ipython3",
   "version": "3.13.3"
  }
 },
 "nbformat": 4,
 "nbformat_minor": 5
}
