{
 "cells": [
  {
   "cell_type": "code",
   "execution_count": 1,
   "id": "57e6aade",
   "metadata": {},
   "outputs": [
    {
     "name": "stderr",
     "output_type": "stream",
     "text": [
      "c:\\Users\\Bob\\Desktop\\10Acadamy\\week-3\\AlphaCare-insurance\\alphacare\\Lib\\site-packages\\tqdm\\auto.py:21: TqdmWarning: IProgress not found. Please update jupyter and ipywidgets. See https://ipywidgets.readthedocs.io/en/stable/user_install.html\n",
      "  from .autonotebook import tqdm as notebook_tqdm\n"
     ]
    }
   ],
   "source": [
    "import pandas as pd\n",
    "import numpy as np\n",
    "import matplotlib.pyplot as plt\n",
    "import seaborn as sns\n",
    "\n",
    "# Models\n",
    "from sklearn.linear_model import LinearRegression, LogisticRegression\n",
    "from sklearn.ensemble import RandomForestRegressor, RandomForestClassifier\n",
    "from xgboost import XGBRegressor, XGBClassifier\n",
    "\n",
    "# Preprocessing\n",
    "from sklearn.model_selection import train_test_split\n",
    "from sklearn.metrics import mean_squared_error, r2_score, accuracy_score, f1_score, classification_report\n",
    "from sklearn.preprocessing import LabelEncoder, StandardScaler\n",
    "\n",
    "# SHAP\n",
    "import shap\n",
    "\n",
    "# Settings\n",
    "import warnings\n",
    "warnings.filterwarnings('ignore')\n"
   ]
  },
  {
   "cell_type": "code",
   "execution_count": 3,
   "id": "34745dee",
   "metadata": {},
   "outputs": [
    {
     "data": {
      "text/html": [
       "<div>\n",
       "<style scoped>\n",
       "    .dataframe tbody tr th:only-of-type {\n",
       "        vertical-align: middle;\n",
       "    }\n",
       "\n",
       "    .dataframe tbody tr th {\n",
       "        vertical-align: top;\n",
       "    }\n",
       "\n",
       "    .dataframe thead th {\n",
       "        text-align: right;\n",
       "    }\n",
       "</style>\n",
       "<table border=\"1\" class=\"dataframe\">\n",
       "  <thead>\n",
       "    <tr style=\"text-align: right;\">\n",
       "      <th></th>\n",
       "      <th>UnderwrittenCoverID</th>\n",
       "      <th>PolicyID</th>\n",
       "      <th>TransactionMonth</th>\n",
       "      <th>IsVATRegistered</th>\n",
       "      <th>Citizenship</th>\n",
       "      <th>LegalType</th>\n",
       "      <th>Title</th>\n",
       "      <th>Language</th>\n",
       "      <th>Bank</th>\n",
       "      <th>AccountType</th>\n",
       "      <th>...</th>\n",
       "      <th>mmcode_was_missing</th>\n",
       "      <th>make_was_missing</th>\n",
       "      <th>Model_was_missing</th>\n",
       "      <th>bodytype_was_missing</th>\n",
       "      <th>NumberOfDoors_was_missing</th>\n",
       "      <th>VehicleIntroDate_was_missing</th>\n",
       "      <th>Cylinders_was_missing</th>\n",
       "      <th>cubiccapacity_was_missing</th>\n",
       "      <th>kilowatts_was_missing</th>\n",
       "      <th>LossRatio</th>\n",
       "    </tr>\n",
       "  </thead>\n",
       "  <tbody>\n",
       "    <tr>\n",
       "      <th>0</th>\n",
       "      <td>145249</td>\n",
       "      <td>12827</td>\n",
       "      <td>2015-03-01</td>\n",
       "      <td>True</td>\n",
       "      <td></td>\n",
       "      <td>Close Corporation</td>\n",
       "      <td>Mr</td>\n",
       "      <td>English</td>\n",
       "      <td>First National Bank</td>\n",
       "      <td>Current account</td>\n",
       "      <td>...</td>\n",
       "      <td>0</td>\n",
       "      <td>0</td>\n",
       "      <td>0</td>\n",
       "      <td>0</td>\n",
       "      <td>0</td>\n",
       "      <td>0</td>\n",
       "      <td>0</td>\n",
       "      <td>0</td>\n",
       "      <td>0</td>\n",
       "      <td>0.0</td>\n",
       "    </tr>\n",
       "    <tr>\n",
       "      <th>1</th>\n",
       "      <td>145249</td>\n",
       "      <td>12827</td>\n",
       "      <td>2015-05-01</td>\n",
       "      <td>True</td>\n",
       "      <td></td>\n",
       "      <td>Close Corporation</td>\n",
       "      <td>Mr</td>\n",
       "      <td>English</td>\n",
       "      <td>First National Bank</td>\n",
       "      <td>Current account</td>\n",
       "      <td>...</td>\n",
       "      <td>0</td>\n",
       "      <td>0</td>\n",
       "      <td>0</td>\n",
       "      <td>0</td>\n",
       "      <td>0</td>\n",
       "      <td>0</td>\n",
       "      <td>0</td>\n",
       "      <td>0</td>\n",
       "      <td>0</td>\n",
       "      <td>0.0</td>\n",
       "    </tr>\n",
       "    <tr>\n",
       "      <th>2</th>\n",
       "      <td>145255</td>\n",
       "      <td>12827</td>\n",
       "      <td>2015-05-01</td>\n",
       "      <td>True</td>\n",
       "      <td></td>\n",
       "      <td>Close Corporation</td>\n",
       "      <td>Mr</td>\n",
       "      <td>English</td>\n",
       "      <td>First National Bank</td>\n",
       "      <td>Current account</td>\n",
       "      <td>...</td>\n",
       "      <td>0</td>\n",
       "      <td>0</td>\n",
       "      <td>0</td>\n",
       "      <td>0</td>\n",
       "      <td>0</td>\n",
       "      <td>0</td>\n",
       "      <td>0</td>\n",
       "      <td>0</td>\n",
       "      <td>0</td>\n",
       "      <td>0.0</td>\n",
       "    </tr>\n",
       "    <tr>\n",
       "      <th>3</th>\n",
       "      <td>145247</td>\n",
       "      <td>12827</td>\n",
       "      <td>2015-01-01</td>\n",
       "      <td>True</td>\n",
       "      <td></td>\n",
       "      <td>Close Corporation</td>\n",
       "      <td>Mr</td>\n",
       "      <td>English</td>\n",
       "      <td>First National Bank</td>\n",
       "      <td>Current account</td>\n",
       "      <td>...</td>\n",
       "      <td>0</td>\n",
       "      <td>0</td>\n",
       "      <td>0</td>\n",
       "      <td>0</td>\n",
       "      <td>0</td>\n",
       "      <td>0</td>\n",
       "      <td>0</td>\n",
       "      <td>0</td>\n",
       "      <td>0</td>\n",
       "      <td>0.0</td>\n",
       "    </tr>\n",
       "    <tr>\n",
       "      <th>4</th>\n",
       "      <td>145247</td>\n",
       "      <td>12827</td>\n",
       "      <td>2015-04-01</td>\n",
       "      <td>True</td>\n",
       "      <td></td>\n",
       "      <td>Close Corporation</td>\n",
       "      <td>Mr</td>\n",
       "      <td>English</td>\n",
       "      <td>First National Bank</td>\n",
       "      <td>Current account</td>\n",
       "      <td>...</td>\n",
       "      <td>0</td>\n",
       "      <td>0</td>\n",
       "      <td>0</td>\n",
       "      <td>0</td>\n",
       "      <td>0</td>\n",
       "      <td>0</td>\n",
       "      <td>0</td>\n",
       "      <td>0</td>\n",
       "      <td>0</td>\n",
       "      <td>0.0</td>\n",
       "    </tr>\n",
       "  </tbody>\n",
       "</table>\n",
       "<p>5 rows × 63 columns</p>\n",
       "</div>"
      ],
      "text/plain": [
       "   UnderwrittenCoverID  PolicyID TransactionMonth  IsVATRegistered  \\\n",
       "0               145249     12827       2015-03-01             True   \n",
       "1               145249     12827       2015-05-01             True   \n",
       "2               145255     12827       2015-05-01             True   \n",
       "3               145247     12827       2015-01-01             True   \n",
       "4               145247     12827       2015-04-01             True   \n",
       "\n",
       "  Citizenship          LegalType Title Language                 Bank  \\\n",
       "0              Close Corporation    Mr  English  First National Bank   \n",
       "1              Close Corporation    Mr  English  First National Bank   \n",
       "2              Close Corporation    Mr  English  First National Bank   \n",
       "3              Close Corporation    Mr  English  First National Bank   \n",
       "4              Close Corporation    Mr  English  First National Bank   \n",
       "\n",
       "       AccountType  ... mmcode_was_missing make_was_missing Model_was_missing  \\\n",
       "0  Current account  ...                  0                0                 0   \n",
       "1  Current account  ...                  0                0                 0   \n",
       "2  Current account  ...                  0                0                 0   \n",
       "3  Current account  ...                  0                0                 0   \n",
       "4  Current account  ...                  0                0                 0   \n",
       "\n",
       "  bodytype_was_missing  NumberOfDoors_was_missing  \\\n",
       "0                    0                          0   \n",
       "1                    0                          0   \n",
       "2                    0                          0   \n",
       "3                    0                          0   \n",
       "4                    0                          0   \n",
       "\n",
       "  VehicleIntroDate_was_missing Cylinders_was_missing  \\\n",
       "0                            0                     0   \n",
       "1                            0                     0   \n",
       "2                            0                     0   \n",
       "3                            0                     0   \n",
       "4                            0                     0   \n",
       "\n",
       "  cubiccapacity_was_missing  kilowatts_was_missing LossRatio  \n",
       "0                         0                      0       0.0  \n",
       "1                         0                      0       0.0  \n",
       "2                         0                      0       0.0  \n",
       "3                         0                      0       0.0  \n",
       "4                         0                      0       0.0  \n",
       "\n",
       "[5 rows x 63 columns]"
      ]
     },
     "execution_count": 3,
     "metadata": {},
     "output_type": "execute_result"
    }
   ],
   "source": [
    "df = pd.read_csv('../data/cleaned_insurance_data.csv')  # Replace with your actual file path\n",
    "df.head()\n"
   ]
  },
  {
   "cell_type": "code",
   "execution_count": 4,
   "id": "5867180a",
   "metadata": {},
   "outputs": [
    {
     "name": "stdout",
     "output_type": "stream",
     "text": [
      "<class 'pandas.core.frame.DataFrame'>\n",
      "RangeIndex: 618176 entries, 0 to 618175\n",
      "Data columns (total 63 columns):\n",
      " #   Column                        Non-Null Count   Dtype  \n",
      "---  ------                        --------------   -----  \n",
      " 0   UnderwrittenCoverID           618176 non-null  int64  \n",
      " 1   PolicyID                      618176 non-null  int64  \n",
      " 2   TransactionMonth              618176 non-null  object \n",
      " 3   IsVATRegistered               618176 non-null  bool   \n",
      " 4   Citizenship                   618176 non-null  object \n",
      " 5   LegalType                     618176 non-null  object \n",
      " 6   Title                         618176 non-null  object \n",
      " 7   Language                      618176 non-null  object \n",
      " 8   Bank                          535640 non-null  object \n",
      " 9   AccountType                   587442 non-null  object \n",
      " 10  MaritalStatus                 613105 non-null  object \n",
      " 11  Gender                        613555 non-null  object \n",
      " 12  Country                       618176 non-null  object \n",
      " 13  Province                      618176 non-null  object \n",
      " 14  PostalCode                    618176 non-null  int64  \n",
      " 15  MainCrestaZone                618176 non-null  object \n",
      " 16  SubCrestaZone                 618176 non-null  object \n",
      " 17  ItemType                      618176 non-null  object \n",
      " 18  mmcode                        618176 non-null  float64\n",
      " 19  VehicleType                   618176 non-null  object \n",
      " 20  RegistrationYear              618176 non-null  int64  \n",
      " 21  make                          618176 non-null  object \n",
      " 22  Model                         618176 non-null  object \n",
      " 23  Cylinders                     618176 non-null  float64\n",
      " 24  cubiccapacity                 618176 non-null  float64\n",
      " 25  kilowatts                     618176 non-null  float64\n",
      " 26  bodytype                      618176 non-null  object \n",
      " 27  NumberOfDoors                 618176 non-null  float64\n",
      " 28  VehicleIntroDate              618176 non-null  object \n",
      " 29  AlarmImmobiliser              618176 non-null  object \n",
      " 30  TrackingDevice                618176 non-null  object \n",
      " 31  CapitalOutstanding            618174 non-null  float64\n",
      " 32  NewVehicle                    557542 non-null  object \n",
      " 33  WrittenOff                    618176 non-null  object \n",
      " 34  Rebuilt                       618176 non-null  object \n",
      " 35  Converted                     618176 non-null  object \n",
      " 36  SumInsured                    618176 non-null  float64\n",
      " 37  TermFrequency                 618176 non-null  object \n",
      " 38  CalculatedPremiumPerTerm      618176 non-null  float64\n",
      " 39  ExcessSelected                618176 non-null  object \n",
      " 40  CoverCategory                 618176 non-null  object \n",
      " 41  CoverType                     618176 non-null  object \n",
      " 42  CoverGroup                    618176 non-null  object \n",
      " 43  Section                       618176 non-null  object \n",
      " 44  Product                       618176 non-null  object \n",
      " 45  StatutoryClass                618176 non-null  object \n",
      " 46  StatutoryRiskType             618176 non-null  object \n",
      " 47  TotalPremium                  618176 non-null  float64\n",
      " 48  TotalClaims                   618176 non-null  float64\n",
      " 49  Rebuilt_was_missing           618176 non-null  int64  \n",
      " 50  Converted_was_missing         618176 non-null  int64  \n",
      " 51  WrittenOff_was_missing        618176 non-null  int64  \n",
      " 52  VehicleType_was_missing       618176 non-null  int64  \n",
      " 53  mmcode_was_missing            618176 non-null  int64  \n",
      " 54  make_was_missing              618176 non-null  int64  \n",
      " 55  Model_was_missing             618176 non-null  int64  \n",
      " 56  bodytype_was_missing          618176 non-null  int64  \n",
      " 57  NumberOfDoors_was_missing     618176 non-null  int64  \n",
      " 58  VehicleIntroDate_was_missing  618176 non-null  int64  \n",
      " 59  Cylinders_was_missing         618176 non-null  int64  \n",
      " 60  cubiccapacity_was_missing     618176 non-null  int64  \n",
      " 61  kilowatts_was_missing         618176 non-null  int64  \n",
      " 62  LossRatio                     618176 non-null  float64\n",
      "dtypes: bool(1), float64(11), int64(17), object(34)\n",
      "memory usage: 293.0+ MB\n"
     ]
    }
   ],
   "source": [
    "df.info()\n",
    "df.isnull().sum()\n",
    "\n",
    "# Fill or drop based on your strategy\n",
    "df.dropna(inplace=True)  # Simple approach for demo\n"
   ]
  },
  {
   "cell_type": "code",
   "execution_count": 5,
   "id": "5dc69fbf",
   "metadata": {},
   "outputs": [],
   "source": [
    "# Example: Create a new feature - Claim Ratio\n",
    "df['ClaimRatio'] = df['TotalClaims'] / (df['CalculatedPremiumPerTerm'] + 1)\n",
    "\n",
    "# You can add more like 'VehicleAge', 'CustomerTenure', etc.\n"
   ]
  },
  {
   "cell_type": "code",
   "execution_count": 6,
   "id": "620c5c18",
   "metadata": {},
   "outputs": [],
   "source": [
    "categorical_cols = df.select_dtypes(include='object').columns\n",
    "df = pd.get_dummies(df, columns=categorical_cols, drop_first=True)\n"
   ]
  },
  {
   "cell_type": "code",
   "execution_count": 7,
   "id": "80ec8f03",
   "metadata": {},
   "outputs": [],
   "source": [
    "# Only keep rows with claims > 0\n",
    "severity_data = df[df['TotalClaims'] > 0]\n",
    "\n",
    "X = severity_data.drop(['TotalClaims'], axis=1)\n",
    "y = severity_data['TotalClaims']\n",
    "\n",
    "X_train, X_test, y_train, y_test = train_test_split(X, y, test_size=0.2, random_state=42)\n"
   ]
  },
  {
   "cell_type": "code",
   "execution_count": 9,
   "id": "d0610389",
   "metadata": {},
   "outputs": [
    {
     "name": "stdout",
     "output_type": "stream",
     "text": [
      "1.7.0\n"
     ]
    }
   ],
   "source": [
    "import sklearn\n",
    "print(sklearn.__version__)\n"
   ]
  },
  {
   "cell_type": "code",
   "execution_count": 10,
   "id": "ee947442",
   "metadata": {},
   "outputs": [
    {
     "name": "stdout",
     "output_type": "stream",
     "text": [
      "Linear Regression RMSE: 25656.04, R²: 0.55\n"
     ]
    }
   ],
   "source": [
    "from sklearn.metrics import mean_squared_error, r2_score\n",
    "import numpy as np\n",
    "\n",
    "rmse_lr = np.sqrt(mean_squared_error(y_test, y_pred_lr))\n",
    "r2_lr = r2_score(y_test, y_pred_lr)\n",
    "\n",
    "print(f\"Linear Regression RMSE: {rmse_lr:.2f}, R²: {r2_lr:.2f}\")\n",
    "\n"
   ]
  },
  {
   "cell_type": "code",
   "execution_count": 12,
   "id": "3b8b07dd",
   "metadata": {},
   "outputs": [
    {
     "name": "stdout",
     "output_type": "stream",
     "text": [
      "Random Forest RMSE: 4337.43, R²: 0.99\n"
     ]
    }
   ],
   "source": [
    "from sklearn.metrics import mean_squared_error, r2_score\n",
    "import numpy as np\n",
    "\n",
    "rmse_rf = np.sqrt(mean_squared_error(y_test, y_pred_rf))\n",
    "r2_rf = r2_score(y_test, y_pred_rf)\n",
    "\n",
    "print(f\"Random Forest RMSE: {rmse_rf:.2f}, R²: {r2_rf:.2f}\")\n"
   ]
  },
  {
   "cell_type": "code",
   "execution_count": 15,
   "id": "72c8b088",
   "metadata": {},
   "outputs": [
    {
     "name": "stdout",
     "output_type": "stream",
     "text": [
      "XGBoost RMSE: 9582.90, R²: 0.94\n"
     ]
    }
   ],
   "source": [
    "import numpy as np\n",
    "from sklearn.metrics import mean_squared_error, r2_score\n",
    "\n",
    "rmse_xgb = np.sqrt(mean_squared_error(y_test, y_pred_xgb))\n",
    "r2_xgb = r2_score(y_test, y_pred_xgb)\n",
    "\n",
    "print(f\"XGBoost RMSE: {rmse_xgb:.2f}, R²: {r2_xgb:.2f}\")\n"
   ]
  },
  {
   "cell_type": "code",
   "execution_count": 16,
   "id": "78dfef32",
   "metadata": {},
   "outputs": [
    {
     "data": {
      "text/html": [
       "<div>\n",
       "<style scoped>\n",
       "    .dataframe tbody tr th:only-of-type {\n",
       "        vertical-align: middle;\n",
       "    }\n",
       "\n",
       "    .dataframe tbody tr th {\n",
       "        vertical-align: top;\n",
       "    }\n",
       "\n",
       "    .dataframe thead th {\n",
       "        text-align: right;\n",
       "    }\n",
       "</style>\n",
       "<table border=\"1\" class=\"dataframe\">\n",
       "  <thead>\n",
       "    <tr style=\"text-align: right;\">\n",
       "      <th></th>\n",
       "      <th>Model</th>\n",
       "      <th>RMSE</th>\n",
       "      <th>R²</th>\n",
       "    </tr>\n",
       "  </thead>\n",
       "  <tbody>\n",
       "    <tr>\n",
       "      <th>0</th>\n",
       "      <td>Linear Regression</td>\n",
       "      <td>25656.043554</td>\n",
       "      <td>0.553565</td>\n",
       "    </tr>\n",
       "    <tr>\n",
       "      <th>1</th>\n",
       "      <td>Random Forest</td>\n",
       "      <td>4337.434212</td>\n",
       "      <td>0.987240</td>\n",
       "    </tr>\n",
       "    <tr>\n",
       "      <th>2</th>\n",
       "      <td>XGBoost</td>\n",
       "      <td>9582.896625</td>\n",
       "      <td>0.937717</td>\n",
       "    </tr>\n",
       "  </tbody>\n",
       "</table>\n",
       "</div>"
      ],
      "text/plain": [
       "               Model          RMSE        R²\n",
       "0  Linear Regression  25656.043554  0.553565\n",
       "1      Random Forest   4337.434212  0.987240\n",
       "2            XGBoost   9582.896625  0.937717"
      ]
     },
     "execution_count": 16,
     "metadata": {},
     "output_type": "execute_result"
    }
   ],
   "source": [
    "model_results = pd.DataFrame({\n",
    "    'Model': ['Linear Regression', 'Random Forest', 'XGBoost'],\n",
    "    'RMSE': [rmse_lr, rmse_rf, rmse_xgb],\n",
    "    'R²': [r2_lr, r2_rf, r2_xgb]\n",
    "})\n",
    "model_results\n"
   ]
  },
  {
   "cell_type": "code",
   "execution_count": 17,
   "id": "227aaf09",
   "metadata": {},
   "outputs": [
    {
     "name": "stdout",
     "output_type": "stream",
     "text": [
      "              precision    recall  f1-score   support\n",
      "\n",
      "           0       1.00      1.00      1.00     94828\n",
      "           1       1.00      1.00      1.00       445\n",
      "\n",
      "    accuracy                           1.00     95273\n",
      "   macro avg       1.00      1.00      1.00     95273\n",
      "weighted avg       1.00      1.00      1.00     95273\n",
      "\n"
     ]
    }
   ],
   "source": [
    "df['HasClaim'] = (df['TotalClaims'] > 0).astype(int)\n",
    "\n",
    "X_cls = df.drop(['TotalClaims', 'HasClaim'], axis=1)\n",
    "y_cls = df['HasClaim']\n",
    "\n",
    "X_train_cls, X_test_cls, y_train_cls, y_test_cls = train_test_split(X_cls, y_cls, test_size=0.2, random_state=42)\n",
    "\n",
    "clf = XGBClassifier(random_state=42)\n",
    "clf.fit(X_train_cls, y_train_cls)\n",
    "y_pred_cls = clf.predict(X_test_cls)\n",
    "\n",
    "print(classification_report(y_test_cls, y_pred_cls))\n"
   ]
  },
  {
   "cell_type": "code",
   "execution_count": 18,
   "id": "9749abe8",
   "metadata": {},
   "outputs": [
    {
     "data": {
      "text/html": [
       "<div>\n",
       "<style scoped>\n",
       "    .dataframe tbody tr th:only-of-type {\n",
       "        vertical-align: middle;\n",
       "    }\n",
       "\n",
       "    .dataframe tbody tr th {\n",
       "        vertical-align: top;\n",
       "    }\n",
       "\n",
       "    .dataframe thead th {\n",
       "        text-align: right;\n",
       "    }\n",
       "</style>\n",
       "<table border=\"1\" class=\"dataframe\">\n",
       "  <thead>\n",
       "    <tr style=\"text-align: right;\">\n",
       "      <th></th>\n",
       "      <th>Probability</th>\n",
       "      <th>Severity</th>\n",
       "      <th>Premium</th>\n",
       "    </tr>\n",
       "  </thead>\n",
       "  <tbody>\n",
       "    <tr>\n",
       "      <th>0</th>\n",
       "      <td>1.067520e-06</td>\n",
       "      <td>421.171814</td>\n",
       "      <td>500.000458</td>\n",
       "    </tr>\n",
       "    <tr>\n",
       "      <th>1</th>\n",
       "      <td>1.230660e-06</td>\n",
       "      <td>878.436768</td>\n",
       "      <td>500.001068</td>\n",
       "    </tr>\n",
       "    <tr>\n",
       "      <th>2</th>\n",
       "      <td>2.467854e-07</td>\n",
       "      <td>393.122101</td>\n",
       "      <td>500.000092</td>\n",
       "    </tr>\n",
       "    <tr>\n",
       "      <th>3</th>\n",
       "      <td>1.586924e-05</td>\n",
       "      <td>1451.595337</td>\n",
       "      <td>500.023041</td>\n",
       "    </tr>\n",
       "    <tr>\n",
       "      <th>4</th>\n",
       "      <td>7.297906e-07</td>\n",
       "      <td>-661.333313</td>\n",
       "      <td>499.999512</td>\n",
       "    </tr>\n",
       "  </tbody>\n",
       "</table>\n",
       "</div>"
      ],
      "text/plain": [
       "    Probability     Severity     Premium\n",
       "0  1.067520e-06   421.171814  500.000458\n",
       "1  1.230660e-06   878.436768  500.001068\n",
       "2  2.467854e-07   393.122101  500.000092\n",
       "3  1.586924e-05  1451.595337  500.023041\n",
       "4  7.297906e-07  -661.333313  499.999512"
      ]
     },
     "execution_count": 18,
     "metadata": {},
     "output_type": "execute_result"
    }
   ],
   "source": [
    "# Combine outputs from regression and classification\n",
    "prob_claim = clf.predict_proba(X_test_cls)[:, 1]\n",
    "predicted_severity = xgb.predict(X_test_cls)\n",
    "\n",
    "premium = (prob_claim * predicted_severity) + 500  # Add fixed expense & margin\n",
    "\n",
    "# Show first few\n",
    "pd.DataFrame({'Probability': prob_claim, 'Severity': predicted_severity, 'Premium': premium}).head()\n"
   ]
  },
  {
   "cell_type": "code",
   "execution_count": 19,
   "id": "e5cb83a1",
   "metadata": {},
   "outputs": [
    {
     "data": {
      "image/png": "[encoded data removed]",
      "text/plain": [
       "<Figure size 800x950 with 1 Axes>"
      ]
     },
     "metadata": {},
     "output_type": "display_data"
    }
   ],
   "source": [
    "explainer = shap.Explainer(xgb)\n",
    "shap_values = explainer(X_test)\n",
    "\n",
    "shap.summary_plot(shap_values, X_test, plot_type=\"bar\")\n"
   ]
  },
  {
   "cell_type": "code",
   "execution_count": 20,
   "id": "bd37144b",
   "metadata": {},
   "outputs": [],
   "source": [
    "# Save important results\n",
    "model_results.to_csv(\"../data/model_comparison.csv\", index=False)\n"
   ]
  }
 ],
 "metadata": {
  "kernelspec": {
   "display_name": "alphacare",
   "language": "python",
   "name": "python3"
  },
  "language_info": {
   "codemirror_mode": {
    "name": "ipython",
    "version": 3
   },
   "file_extension": ".py",
   "mimetype": "text/x-python",
   "name": "python",
   "nbconvert_exporter": "python",
   "pygments_lexer": "ipython3",
   "version": "3.13.3"
  }
 },
 "nbformat": 4,
 "nbformat_minor": 5
}
